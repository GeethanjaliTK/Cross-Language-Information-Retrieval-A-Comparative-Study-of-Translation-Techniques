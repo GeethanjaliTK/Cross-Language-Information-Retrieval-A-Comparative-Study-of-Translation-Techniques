{
 "cells": [
  {
   "cell_type": "markdown",
   "metadata": {},
   "source": [
    "Statistical Machnine Translation(SMT)"
   ]
  },
  {
   "cell_type": "code",
   "execution_count": 1,
   "metadata": {},
   "outputs": [],
   "source": [
    "from googletrans import Translator\n",
    "\n",
    "def translate_smt(text, target_language):\n",
    "    translator = Translator()\n",
    "    translated_text = translator.translate(text, dest=target_language)\n",
    "    return translated_text.text"
   ]
  },
  {
   "cell_type": "code",
   "execution_count": 3,
   "metadata": {},
   "outputs": [
    {
     "name": "stdout",
     "output_type": "stream",
     "text": [
      "Document 1:\n",
      "Stemmed Tokens: ['first', 'document', '.']\n",
      "Lemmatized Tokens: ['first', 'document', '.']\n",
      "\n",
      "Document 2:\n",
      "Stemmed Tokens: ['document', 'second', 'document', '.']\n",
      "Lemmatized Tokens: ['document', 'second', 'document', '.']\n",
      "\n",
      "Document 3:\n",
      "Stemmed Tokens: ['third', 'one', '.']\n",
      "Lemmatized Tokens: ['third', 'one', '.']\n",
      "\n",
      "Document 4:\n",
      "Stemmed Tokens: ['first', 'document', '?']\n",
      "Lemmatized Tokens: ['first', 'document', '?']\n",
      "\n"
     ]
    },
    {
     "name": "stderr",
     "output_type": "stream",
     "text": [
      "[nltk_data] Downloading package punkt to\n",
      "[nltk_data]     C:\\Users\\geeth\\AppData\\Roaming\\nltk_data...\n",
      "[nltk_data]   Package punkt is already up-to-date!\n",
      "[nltk_data] Downloading package stopwords to\n",
      "[nltk_data]     C:\\Users\\geeth\\AppData\\Roaming\\nltk_data...\n",
      "[nltk_data]   Package stopwords is already up-to-date!\n",
      "[nltk_data] Downloading package wordnet to\n",
      "[nltk_data]     C:\\Users\\geeth\\AppData\\Roaming\\nltk_data...\n",
      "[nltk_data]   Package wordnet is already up-to-date!\n"
     ]
    }
   ],
   "source": [
    "import nltk\n",
    "from nltk.corpus import stopwords\n",
    "from nltk.tokenize import word_tokenize\n",
    "from nltk.stem import PorterStemmer, WordNetLemmatizer\n",
    "\n",
    "# Download NLTK resources\n",
    "nltk.download('punkt')\n",
    "nltk.download('stopwords')\n",
    "nltk.download('wordnet')\n",
    "\n",
    "def preprocess_text(text):\n",
    "    # Tokenization\n",
    "    tokens = word_tokenize(text.lower())  # Convert to lowercase\n",
    "\n",
    "    # Remove stopwords\n",
    "    stop_words = set(stopwords.words('english'))\n",
    "    tokens = [token for token in tokens if token not in stop_words]\n",
    "\n",
    "    # Stemming and Lemmatization\n",
    "    stemmer = PorterStemmer()\n",
    "    lemmatizer = WordNetLemmatizer()\n",
    "    stemmed_tokens = [stemmer.stem(token) for token in tokens]\n",
    "    lemmatized_tokens = [lemmatizer.lemmatize(token) for token in tokens]\n",
    "\n",
    "    return stemmed_tokens, lemmatized_tokens\n",
    "\n",
    "# Example dataset \n",
    "dataset = [\n",
    "    \"This is the first document.\",\n",
    "    \"This document is the second document.\",\n",
    "    \"And this is the third one.\",\n",
    "    \"Is this the first document?\"\n",
    "]\n",
    "\n",
    "preprocessed_dataset = []\n",
    "for document in dataset:\n",
    "    stemmed_tokens, lemmatized_tokens = preprocess_text(document)\n",
    "    preprocessed_dataset.append((stemmed_tokens, lemmatized_tokens))\n",
    "\n",
    "# Print preprocessed dataset\n",
    "for idx, (stemmed_tokens, lemmatized_tokens) in enumerate(preprocessed_dataset):\n",
    "    print(f\"Document {idx + 1}:\")\n",
    "    print(\"Stemmed Tokens:\", stemmed_tokens)\n",
    "    print(\"Lemmatized Tokens:\", lemmatized_tokens)\n",
    "    print()"
   ]
  },
  {
   "cell_type": "code",
   "execution_count": 4,
   "metadata": {},
   "outputs": [
    {
     "name": "stdout",
     "output_type": "stream",
     "text": [
      "Translated Document: C'est le premier document.\n"
     ]
    }
   ],
   "source": [
    "from googletrans import Translator\n",
    "\n",
    "def translate_document(document, source_lang, target_lang):\n",
    "    translator = Translator()\n",
    "    translated_text = translator.translate(document, src=source_lang, dest=target_lang)\n",
    "    return translated_text.text\n",
    "\n",
    "# Example usage\n",
    "source_lang = 'en'  # Source language (English)\n",
    "target_lang = 'fr'  # Target language (French)\n",
    "document = \"This is the first document.\"\n",
    "\n",
    "translated_document = translate_document(document, source_lang, target_lang)\n",
    "print(\"Translated Document:\", translated_document)"
   ]
  },
  {
   "cell_type": "code",
   "execution_count": 5,
   "metadata": {},
   "outputs": [
    {
     "name": "stdout",
     "output_type": "stream",
     "text": [
      "Inverted Index:\n",
      "first : [0, 3]\n",
      "document : [0, 1, 3]\n",
      "second : [1]\n",
      "third : [2]\n"
     ]
    }
   ],
   "source": [
    "def build_inverted_index(documents):\n",
    "    inverted_index = {}\n",
    "\n",
    "    for doc_id, document in enumerate(documents):\n",
    "        for term in document:\n",
    "            if term not in inverted_index:\n",
    "                inverted_index[term] = []\n",
    "            if doc_id not in inverted_index[term]:\n",
    "                inverted_index[term].append(doc_id)\n",
    "\n",
    "    return inverted_index\n",
    "\n",
    "# Example usage\n",
    "translated_documents = [\n",
    "    [\"first\", \"document\"],\n",
    "    [\"second\", \"document\"],\n",
    "    [\"third\"],\n",
    "    [\"first\", \"document\"]\n",
    "]\n",
    "\n",
    "inverted_index = build_inverted_index(translated_documents)\n",
    "print(\"Inverted Index:\")\n",
    "for term, doc_ids in inverted_index.items():\n",
    "    print(term, \":\", doc_ids)"
   ]
  },
  {
   "cell_type": "code",
   "execution_count": 6,
   "metadata": {},
   "outputs": [
    {
     "name": "stdout",
     "output_type": "stream",
     "text": [
      "Translated Query: Récupérez des documents liés à l’apprentissage automatique.\n"
     ]
    }
   ],
   "source": [
    "from googletrans import Translator\n",
    "\n",
    "def translate_query(query, source_lang, target_lang):\n",
    "    translator = Translator()\n",
    "    translated_query = translator.translate(query, src=source_lang, dest=target_lang)\n",
    "    return translated_query.text\n",
    "\n",
    "# Example usage\n",
    "source_lang = 'en'  # Source language (English)\n",
    "target_lang = 'fr'  # Target language (French)\n",
    "query = \"Retrieve documents related to machine learning.\"\n",
    "\n",
    "translated_query = translate_query(query, source_lang, target_lang)\n",
    "print(\"Translated Query:\", translated_query)"
   ]
  },
  {
   "cell_type": "code",
   "execution_count": 7,
   "metadata": {},
   "outputs": [
    {
     "name": "stdout",
     "output_type": "stream",
     "text": [
      "Relevant Documents: {0, 1}\n"
     ]
    }
   ],
   "source": [
    "def retrieve_documents(inverted_index, translated_query):\n",
    "    relevant_documents = set()\n",
    "\n",
    "    # Split the translated query into terms\n",
    "    query_terms = translated_query.split()\n",
    "\n",
    "    # Retrieve relevant documents based on query terms\n",
    "    for term in query_terms:\n",
    "        if term in inverted_index:\n",
    "            relevant_documents.update(inverted_index[term])\n",
    "\n",
    "    return relevant_documents\n",
    "\n",
    "# Example usage\n",
    "inverted_index = {\n",
    "    \"machine\": [0, 1],\n",
    "    \"learning\": [0],\n",
    "    \"artificial\": [1],\n",
    "    \"intelligence\": [1]\n",
    "}\n",
    "\n",
    "translated_query = \"Retrieve documents related to machine learning.\"\n",
    "\n",
    "relevant_documents = retrieve_documents(inverted_index, translated_query)\n",
    "print(\"Relevant Documents:\", relevant_documents)"
   ]
  },
  {
   "cell_type": "code",
   "execution_count": null,
   "metadata": {},
   "outputs": [],
   "source": []
  },
  {
   "cell_type": "code",
   "execution_count": 8,
   "metadata": {},
   "outputs": [
    {
     "name": "stdout",
     "output_type": "stream",
     "text": [
      "Precision: 0.5\n",
      "Recall: 0.5\n",
      "F1-score: 0.5\n"
     ]
    }
   ],
   "source": [
    "def evaluate(retrieved_documents, relevant_documents):\n",
    "    # Calculate precision\n",
    "    if len(retrieved_documents) > 0 :\n",
    "        precision = len(retrieved_documents.intersection(relevant_documents)) / len(retrieved_documents) \n",
    "    else:\n",
    "        precision=0\n",
    "\n",
    "    # Calculate recall\n",
    "    if len(relevant_documents) > 0:\n",
    "        recall = len(retrieved_documents.intersection(relevant_documents)) / len(relevant_documents)\n",
    "    else:\n",
    "        recall=0\n",
    "    # Calculate F1-score\n",
    "    f1_score = (2 * precision * recall) / (precision + recall) if (precision + recall) > 0 else 0\n",
    "\n",
    "    return precision, recall, f1_score\n",
    "\n",
    "# Example usage\n",
    "relevant_documents = {0, 1}\n",
    "retrieved_documents = {0, 2}\n",
    "\n",
    "precision, recall, f1_score = evaluate(retrieved_documents, relevant_documents)\n",
    "print(\"Precision:\", precision)\n",
    "print(\"Recall:\", recall)\n",
    "print(\"F1-score:\", f1_score)"
   ]
  },
  {
   "cell_type": "code",
   "execution_count": 9,
   "metadata": {},
   "outputs": [
    {
     "data": {
      "image/png": "[encoded data removed]",
      "text/plain": [
       "<Figure size 640x480 with 1 Axes>"
      ]
     },
     "metadata": {},
     "output_type": "display_data"
    }
   ],
   "source": [
    "import matplotlib.pyplot as plt\n",
    "\n",
    "# Define techniques and their evaluation scores\n",
    "techniques = ['Technique 1', 'Technique 2', 'Technique 3']\n",
    "precision_scores = [0.7, 0.6, 0.5]\n",
    "recall_scores = [0.8, 0.7, 0.6]\n",
    "f1_scores = [0.75, 0.65, 0.55]\n",
    "\n",
    "# Plotting\n",
    "x = range(len(techniques))\n",
    "width = 0.25\n",
    "\n",
    "fig, ax = plt.subplots()\n",
    "bars1 = ax.bar(x, precision_scores, width, label='Precision')\n",
    "bars2 = ax.bar([i + width for i in x], recall_scores, width, label='Recall')\n",
    "bars3 = ax.bar([i + 2 * width for i in x], f1_scores, width, label='F1-score')\n",
    "\n",
    "ax.set_xlabel('Techniques')\n",
    "ax.set_ylabel('Scores')\n",
    "ax.set_title('Performance Comparison of Different Techniques')\n",
    "ax.set_xticks([i + width for i in x])\n",
    "ax.set_xticklabels(techniques)\n",
    "ax.legend()\n",
    "\n",
    "plt.tight_layout()\n",
    "plt.show()"
   ]
  },
  {
   "cell_type": "markdown",
   "metadata": {},
   "source": [
    "Example-Based Machine Translation "
   ]
  },
  {
   "cell_type": "code",
   "execution_count": 10,
   "metadata": {},
   "outputs": [
    {
     "name": "stdout",
     "output_type": "stream",
     "text": [
      "Original document: This is an example sentence for preprocessing.\n",
      "Preprocessed document: exampl sentenc preprocess .\n"
     ]
    },
    {
     "name": "stderr",
     "output_type": "stream",
     "text": [
      "[nltk_data] Downloading package punkt to\n",
      "[nltk_data]     C:\\Users\\geeth\\AppData\\Roaming\\nltk_data...\n",
      "[nltk_data]   Package punkt is already up-to-date!\n",
      "[nltk_data] Downloading package stopwords to\n",
      "[nltk_data]     C:\\Users\\geeth\\AppData\\Roaming\\nltk_data...\n",
      "[nltk_data]   Package stopwords is already up-to-date!\n"
     ]
    }
   ],
   "source": [
    "import nltk\n",
    "from nltk.tokenize import word_tokenize\n",
    "from nltk.corpus import stopwords\n",
    "from nltk.stem import PorterStemmer\n",
    "\n",
    "# Download NLTK resources (run this once)\n",
    "nltk.download('punkt')\n",
    "nltk.download('stopwords')\n",
    "\n",
    "def preprocess_document(document):\n",
    "    # Tokenization\n",
    "    tokens = word_tokenize(document)\n",
    "    \n",
    "    # Removing stop words\n",
    "    stop_words = set(stopwords.words('english'))\n",
    "    filtered_tokens = [token for token in tokens if token.lower() not in stop_words]\n",
    "    \n",
    "    # Stemming\n",
    "    stemmer = PorterStemmer()\n",
    "    stemmed_tokens = [stemmer.stem(token) for token in filtered_tokens]\n",
    "    \n",
    "    # Join the tokens back into a single string\n",
    "    preprocessed_document = ' '.join(stemmed_tokens)\n",
    "    \n",
    "    return preprocessed_document\n",
    "\n",
    "# Example usage\n",
    "document = \"This is an example sentence for preprocessing.\"\n",
    "preprocessed_document = preprocess_document(document)\n",
    "print(\"Original document:\", document)\n",
    "print(\"Preprocessed document:\", preprocessed_document)"
   ]
  },
  {
   "cell_type": "code",
   "execution_count": 13,
   "metadata": {},
   "outputs": [],
   "source": [
    "import nltk\n",
    "from nltk.tokenize import word_tokenize\n",
    "\n",
    "# Example translation memory \n",
    "translation_memory = {\n",
    "    \"en\": {\n",
    "        \"hello\": \"hola\",\n",
    "        \"world\": \"mundo\",\n",
    "        \"example\": \"ejemplo\"\n",
    "    },\n",
    "    \"es\": {\n",
    "        \"hola\": \"hello\",\n",
    "        \"mundo\": \"world\",\n",
    "        \"ejemplo\": \"example\"\n",
    "    }\n",
    "}\n",
    "\n",
    "def translate_sentence(sentence, source_language, target_language):\n",
    "    # Tokenize the sentence\n",
    "    tokens = word_tokenize(sentence.lower())\n",
    "    \n",
    "    # Translate each token\n",
    "    translated_tokens = []\n",
    "    for token in tokens:\n",
    "        translated_token = translation_memory.get(source_language, {}).get(token, token)\n",
    "        translated_tokens.append(translated_token)\n",
    "    \n",
    "    # Join translated tokens into a sentence\n",
    "    translated_sentence = ' '.join(translated_tokens)\n",
    "    \n",
    "    return translated_sentence"
   ]
  },
  {
   "cell_type": "code",
   "execution_count": 14,
   "metadata": {},
   "outputs": [
    {
     "name": "stdout",
     "output_type": "stream",
     "text": [
      "Original sentence: Hello world! This is an example.\n",
      "Translated sentence: hola mundo ! this is an ejemplo .\n"
     ]
    }
   ],
   "source": [
    "# Example usage\n",
    "sentence = \"Hello world! This is an example.\"\n",
    "translated_sentence = translate_sentence(sentence, \"en\", \"es\")\n",
    "print(\"Original sentence:\", sentence)\n",
    "print(\"Translated sentence:\", translated_sentence)"
   ]
  },
  {
   "cell_type": "code",
   "execution_count": 15,
   "metadata": {},
   "outputs": [
    {
     "name": "stdout",
     "output_type": "stream",
     "text": [
      "Original sentence 1: How are you doing?\n",
      "Translated sentence 1: how are you doing ?\n",
      "Original sentence 2: This is a beautiful day.\n",
      "Translated sentence 2: this is a beautiful day .\n",
      "Original sentence 3: I want to go to the park.\n",
      "Translated sentence 3: i want to go to the park .\n"
     ]
    }
   ],
   "source": [
    "# Example usage with diverse sentences\n",
    "sentence1 = \"How are you doing?\"\n",
    "sentence2 = \"This is a beautiful day.\"\n",
    "sentence3 = \"I want to go to the park.\"\n",
    "\n",
    "translated_sentence1 = translate_sentence(sentence1, \"en\", \"es\")\n",
    "translated_sentence2 = translate_sentence(sentence2, \"en\", \"es\")\n",
    "translated_sentence3 = translate_sentence(sentence3, \"en\", \"es\")\n",
    "\n",
    "print(\"Original sentence 1:\", sentence1)\n",
    "print(\"Translated sentence 1:\", translated_sentence1)\n",
    "print(\"Original sentence 2:\", sentence2)\n",
    "print(\"Translated sentence 2:\", translated_sentence2)\n",
    "print(\"Original sentence 3:\", sentence3)\n",
    "print(\"Translated sentence 3:\", translated_sentence3)"
   ]
  },
  {
   "cell_type": "code",
   "execution_count": 16,
   "metadata": {},
   "outputs": [
    {
     "name": "stdout",
     "output_type": "stream",
     "text": [
      "Inverted Index:\n",
      "hello: [0, 2]\n",
      "world: [0, 1]\n",
      "example: [1, 2]\n"
     ]
    }
   ],
   "source": [
    "from collections import defaultdict\n",
    "\n",
    "def create_inverted_index(documents):\n",
    "    inverted_index = defaultdict(list)\n",
    "    for doc_id, document in enumerate(documents):\n",
    "        tokens = document.split()\n",
    "        for token in tokens:\n",
    "            inverted_index[token].append(doc_id)\n",
    "    return inverted_index\n",
    "\n",
    "# Example translated documents\n",
    "translated_documents = [\n",
    "    \"hello world\",\n",
    "    \"world example\",\n",
    "    \"hello example\"\n",
    "]\n",
    "\n",
    "# Create inverted index\n",
    "inverted_index = create_inverted_index(translated_documents)\n",
    "\n",
    "# Print inverted index\n",
    "print(\"Inverted Index:\")\n",
    "for token, doc_ids in inverted_index.items():\n",
    "    print(f\"{token}: {doc_ids}\")"
   ]
  },
  {
   "cell_type": "code",
   "execution_count": 17,
   "metadata": {},
   "outputs": [
    {
     "name": "stdout",
     "output_type": "stream",
     "text": [
      "Original query: How are you?\n",
      "Translated query (es): how are you ?\n",
      "Translated query (fr): how are you ?\n"
     ]
    }
   ],
   "source": [
    "def process_query(query, source_language, target_languages):\n",
    "    translated_queries = {}\n",
    "    \n",
    "    # Translate the query into each target language\n",
    "    for target_language in target_languages:\n",
    "        translated_query = translate_sentence(query, source_language, target_language)\n",
    "        translated_queries[target_language] = translated_query\n",
    "    \n",
    "    return translated_queries\n",
    "\n",
    "# Example usage\n",
    "query = \"How are you?\"\n",
    "source_language = \"en\"\n",
    "target_languages = [\"es\", \"fr\"]  # Example target languages\n",
    "\n",
    "translated_queries = process_query(query, source_language, target_languages)\n",
    "\n",
    "# Print translated queries\n",
    "print(\"Original query:\", query)\n",
    "for target_language, translated_query in translated_queries.items():\n",
    "    print(f\"Translated query ({target_language}): {translated_query}\")"
   ]
  },
  {
   "cell_type": "code",
   "execution_count": 18,
   "metadata": {},
   "outputs": [],
   "source": [
    "from collections import defaultdict\n",
    "\n",
    "# Function to create an inverted index\n",
    "def create_inverted_index(documents):\n",
    "    inverted_index = defaultdict(list)\n",
    "    for doc_id, document in enumerate(documents):\n",
    "        tokens = document.split()\n",
    "        for token in tokens:\n",
    "            inverted_index[token].append(doc_id)\n",
    "    return inverted_index\n",
    "\n",
    "# Function to translate a sentence\n",
    "def translate_sentence(sentence, source_language, target_language):\n",
    "    translation_memory = {\n",
    "        \"en\": {\"hello\": \"hola\", \"world\": \"mundo\", \"example\": \"ejemplo\"},\n",
    "        \"es\": {\"hola\": \"hello\", \"mundo\": \"world\", \"ejemplo\": \"example\"},\n",
    "        \"fr\": {\"hello\": \"bonjour\", \"world\": \"monde\", \"example\": \"exemple\"}\n",
    "    }\n",
    "    translated_tokens = [translation_memory.get(source_language, {}).get(token, token) \n",
    "                         for token in sentence.lower().split()]\n",
    "    translated_sentence = ' '.join(translated_tokens)\n",
    "    return translated_sentence\n",
    "\n",
    "# Function to process user queries\n",
    "def process_query(query, source_language, target_languages):\n",
    "    translated_queries = {}\n",
    "    for target_language in target_languages:\n",
    "        translated_query = translate_sentence(query, source_language, target_language)\n",
    "        translated_queries[target_language] = translated_query\n",
    "    return translated_queries"
   ]
  },
  {
   "cell_type": "code",
   "execution_count": 19,
   "metadata": {},
   "outputs": [
    {
     "name": "stdout",
     "output_type": "stream",
     "text": [
      "Original query: Hello world\n",
      "Translated query (es): hola mundo\n",
      "Translated query (fr): hola mundo\n"
     ]
    }
   ],
   "source": [
    "# Example usage\n",
    "# Example translated documents\n",
    "translated_documents = [\n",
    "    \"hello world\",\n",
    "    \"world example\",\n",
    "    \"hello example\"\n",
    "]\n",
    "\n",
    "# Create inverted index\n",
    "inverted_index = create_inverted_index(translated_documents)\n",
    "\n",
    "# User query\n",
    "query = \"Hello world\"\n",
    "source_language = \"en\"\n",
    "target_languages = [\"es\", \"fr\"]  # Example target languages\n",
    "\n",
    "# Process user query\n",
    "translated_queries = process_query(query, source_language, target_languages)\n",
    "\n",
    "# Print original and translated queries\n",
    "print(\"Original query:\", query)\n",
    "for target_language, translated_query in translated_queries.items():\n",
    "    print(f\"Translated query ({target_language}): {translated_query}\")"
   ]
  },
  {
   "cell_type": "code",
   "execution_count": 20,
   "metadata": {},
   "outputs": [
    {
     "name": "stdout",
     "output_type": "stream",
     "text": [
      "Relevant documents: set()\n"
     ]
    }
   ],
   "source": [
    "def retrieve_documents(translated_query, inverted_index):\n",
    "    relevant_documents = set()\n",
    "    for token in translated_query.split():\n",
    "        if token in inverted_index:\n",
    "            relevant_documents.update(inverted_index[token])\n",
    "    return relevant_documents\n",
    "\n",
    "# Example usage\n",
    "relevant_documents = retrieve_documents(translated_queries[\"es\"], inverted_index)\n",
    "\n",
    "print(\"Relevant documents:\", relevant_documents)"
   ]
  },
  {
   "cell_type": "code",
   "execution_count": 21,
   "metadata": {},
   "outputs": [],
   "source": [
    "# Function to calculate precision, recall, and F1-score\n",
    "def evaluate(retrieved_documents, relevant_documents):\n",
    "    # Calculate precision\n",
    "    if len(retrieved_documents) > 0 :\n",
    "        precision = len(retrieved_documents.intersection(relevant_documents)) / len(retrieved_documents) \n",
    "    else:\n",
    "        precision=0\n",
    "\n",
    "    # Calculate recall\n",
    "    if len(relevant_documents) > 0:\n",
    "        recall = len(retrieved_documents.intersection(relevant_documents)) / len(relevant_documents)\n",
    "    else:\n",
    "        recall=0\n",
    "    # Calculate F1-score\n",
    "    f1_score = 2 * (precision * recall) / (precision + recall) if (precision + recall) > 0 else 0\n",
    "    \n",
    "    return precision, recall, f1_score\n",
    "\n",
    "# Example usage\n",
    "# Ground truth relevant documents for each query\n",
    "ground_truth = {\n",
    "    \"query1\": {1, 2, 3},  # Example relevant documents for query1\n",
    "    \"query2\": {2, 3, 4},  # Example relevant documents for query2\n",
    "    # Add more queries and relevant documents as needed\n",
    "}\n",
    "\n",
    "# Retrieved documents for each query using different translation techniques\n",
    "retrieved_documents_translation1 = {\n",
    "    \"query1\": {1, 2},  # Retrieved documents for query1 using translation technique 1\n",
    "    \"query2\": {2, 3},  # Retrieved documents for query2 using translation technique 1\n",
    "    # Add more queries and retrieved documents as needed\n",
    "}\n",
    "\n",
    "retrieved_documents_translation2 = {\n",
    "    \"query1\": {1, 3},  # Retrieved documents for query1 using translation technique 2\n",
    "    \"query2\": {3, 4},  # Retrieved documents for query2 using translation technique 2\n",
    "    # Add more queries and retrieved documents as needed\n",
    "}"
   ]
  },
  {
   "cell_type": "code",
   "execution_count": 22,
   "metadata": {},
   "outputs": [
    {
     "name": "stdout",
     "output_type": "stream",
     "text": [
      "Evaluation for query 'query1':\n",
      "Translation Technique 1:\n",
      "Precision: 1.0, Recall: 0.6666666666666666, F1-score: 0.8\n",
      "Translation Technique 2:\n",
      "Precision: 1.0, Recall: 0.6666666666666666, F1-score: 0.8\n",
      "Evaluation for query 'query2':\n",
      "Translation Technique 1:\n",
      "Precision: 1.0, Recall: 0.6666666666666666, F1-score: 0.8\n",
      "Translation Technique 2:\n",
      "Precision: 1.0, Recall: 0.6666666666666666, F1-score: 0.8\n"
     ]
    }
   ],
   "source": [
    "# Evaluate each translation technique\n",
    "for query, relevant_docs in ground_truth.items():\n",
    "    print(f\"Evaluation for query '{query}':\")\n",
    "    \n",
    "    # Evaluation for translation technique 1\n",
    "    precision, recall, f1_score = evaluate(retrieved_documents_translation1.get(query, set()), relevant_docs)\n",
    "    print(\"Translation Technique 1:\")\n",
    "    print(f\"Precision: {precision}, Recall: {recall}, F1-score: {f1_score}\")\n",
    "    \n",
    "    # Evaluation for translation technique 2\n",
    "    precision, recall, f1_score = evaluate(retrieved_documents_translation2.get(query, set()), relevant_docs)\n",
    "    print(\"Translation Technique 2:\")\n",
    "    print(f\"Precision: {precision}, Recall: {recall}, F1-score: {f1_score}\")"
   ]
  },
  {
   "cell_type": "code",
   "execution_count": 23,
   "metadata": {},
   "outputs": [
    {
     "data": {
      "image/png": "[encoded data removed]",
      "text/plain": [
       "<Figure size 1000x600 with 1 Axes>"
      ]
     },
     "metadata": {},
     "output_type": "display_data"
    }
   ],
   "source": [
    "import matplotlib.pyplot as plt\n",
    "\n",
    "# Example evaluation results\n",
    "queries = ['query1', 'query2']\n",
    "precision_technique1 = [1.0, 1.0]\n",
    "recall_technique1 = [0.67, 0.67]\n",
    "f1_score_technique1 = [0.8, 0.8]\n",
    "\n",
    "precision_technique2 = [1.0, 1.0]\n",
    "recall_technique2 = [0.67, 0.67]\n",
    "f1_score_technique2 = [0.8, 0.8]\n",
    "\n",
    "# Plotting precision, recall, and F1-score\n",
    "bar_width = 0.2\n",
    "index = range(len(queries))\n",
    "\n",
    "plt.figure(figsize=(10, 6))\n",
    "\n",
    "plt.bar(index, precision_technique1, bar_width, label='Precision Technique 1', color='b')\n",
    "plt.bar([i + bar_width for i in index], recall_technique1, bar_width, label='Recall Technique 1', color='g')\n",
    "plt.bar([i + 2 * bar_width for i in index],f1_score_technique1,bar_width,label='F1-score Technique 1',color='r')\n",
    "\n",
    "plt.bar([i + 3 * bar_width for i in index], precision_technique2, bar_width, label='Precision Technique 2', \n",
    "        color='b', hatch='//')\n",
    "plt.bar([i + 4 * bar_width for i in index], recall_technique2, bar_width, label='Recall Technique 2', \n",
    "        color='g', hatch='//')\n",
    "plt.bar([i + 5 * bar_width for i in index], f1_score_technique2, bar_width, label='F1-score Technique 2', \n",
    "        color='r', hatch='//')\n",
    "\n",
    "plt.xlabel('Query')\n",
    "plt.ylabel('Metrics')\n",
    "plt.title('Performance Comparison')\n",
    "plt.xticks([i + 2 * bar_width for i in index], queries)\n",
    "plt.legend()\n",
    "\n",
    "plt.tight_layout()\n",
    "plt.show()"
   ]
  },
  {
   "cell_type": "markdown",
   "metadata": {},
   "source": [
    "Bilingual Dictionaries"
   ]
  },
  {
   "cell_type": "code",
   "execution_count": 24,
   "metadata": {},
   "outputs": [
    {
     "name": "stdout",
     "output_type": "stream",
     "text": [
      "['exampl', 'sentenc', 'preprocess', '.']\n"
     ]
    },
    {
     "name": "stderr",
     "output_type": "stream",
     "text": [
      "[nltk_data] Downloading package punkt to\n",
      "[nltk_data]     C:\\Users\\geeth\\AppData\\Roaming\\nltk_data...\n",
      "[nltk_data]   Package punkt is already up-to-date!\n",
      "[nltk_data] Downloading package stopwords to\n",
      "[nltk_data]     C:\\Users\\geeth\\AppData\\Roaming\\nltk_data...\n",
      "[nltk_data]   Package stopwords is already up-to-date!\n"
     ]
    }
   ],
   "source": [
    "import nltk\n",
    "from nltk.corpus import stopwords\n",
    "from nltk.tokenize import word_tokenize\n",
    "from nltk.stem import PorterStemmer\n",
    "\n",
    "nltk.download('punkt')\n",
    "nltk.download('stopwords')\n",
    "\n",
    "def preprocess_text(text):\n",
    "    # Tokenization\n",
    "    tokens = word_tokenize(text.lower())  # Convert text to lowercase and tokenize\n",
    "\n",
    "    # Remove stop words\n",
    "    stop_words = set(stopwords.words('english'))\n",
    "    filtered_tokens = [word for word in tokens if word not in stop_words]\n",
    "\n",
    "    # Stemming\n",
    "    stemmer = PorterStemmer()\n",
    "    stemmed_tokens = [stemmer.stem(word) for word in filtered_tokens]\n",
    "\n",
    "    return stemmed_tokens\n",
    "\n",
    "# Example usage:\n",
    "text = \"This is an example sentence for preprocessing.\"\n",
    "preprocessed_text = preprocess_text(text)\n",
    "print(preprocessed_text)"
   ]
  },
  {
   "cell_type": "code",
   "execution_count": 26,
   "metadata": {},
   "outputs": [],
   "source": [
    "class InvertedIndex:\n",
    "    def __init__(self):\n",
    "        self.index = {}\n",
    "\n",
    "    def add_document(self, doc_id, tokens):\n",
    "        for token in tokens:\n",
    "            if token in self.index:\n",
    "                if doc_id not in self.index[token]:\n",
    "                    self.index[token].append(doc_id)\n",
    "            else:\n",
    "                self.index[token] = [doc_id]\n",
    "\n",
    "    def search(self, query):\n",
    "        query_tokens = query.split()\n",
    "        result_docs = set()\n",
    "\n",
    "        # Find documents containing all query terms\n",
    "        for token in query_tokens:\n",
    "            if token in self.index:\n",
    "                if not result_docs:\n",
    "                    result_docs = set(self.index[token])\n",
    "                else:\n",
    "                    result_docs = result_docs.intersection(set(self.index[token]))\n",
    "        \n",
    "        return list(result_docs)\n",
    "\n",
    "\n",
    "# Example usage:\n",
    "# Assume we have translated documents indexed using an inverted index\n",
    "index = InvertedIndex()\n",
    "\n",
    "# Adding translated documents to the index\n",
    "index.add_document(1, ['hola', 'mundo', 'python'])\n",
    "index.add_document(2, ['bienvenido', 'a', 'la', 'programación', 'en', 'python'])\n",
    "index.add_document(3, ['python', 'es', 'un', 'lenguaje', 'de', 'programación'])"
   ]
  },
  {
   "cell_type": "code",
   "execution_count": 27,
   "metadata": {},
   "outputs": [
    {
     "name": "stdout",
     "output_type": "stream",
     "text": [
      "Documents containing the query terms: [1]\n"
     ]
    }
   ],
   "source": [
    "# Searching for documents containing the query terms\n",
    "query = \"hola python\"\n",
    "result = index.search(query)\n",
    "print(\"Documents containing the query terms:\", result)"
   ]
  },
  {
   "cell_type": "code",
   "execution_count": 32,
   "metadata": {},
   "outputs": [],
   "source": [
    "class BilingualDictionaryTranslator:\n",
    "    def __init__(self, dictionary):\n",
    "        self.dictionary = dictionary\n",
    "\n",
    "    def translate(self, text, target_language):\n",
    "        translated_text = []\n",
    "        for word in text.split():\n",
    "            translated_word = self.dictionary.get(word.lower(), word)\n",
    "            translated_text.append(translated_word)\n",
    "        return ' '.join(translated_text)\n",
    "\n",
    "\n",
    "class QueryProcessor:\n",
    "    def __init__(self, translator, index):\n",
    "        self.translator = translator\n",
    "        self.index = index\n",
    "\n",
    "    def process_query(self, query, query_language, document_language):\n",
    "        if query_language != document_language:\n",
    "            translated_query = self.translator.translate(query, document_language)\n",
    "        else:\n",
    "            translated_query = query\n",
    "\n",
    "        # Process translated query\n",
    "        result_docs = self.index.search(translated_query)\n",
    "        return result_docs"
   ]
  },
  {
   "cell_type": "code",
   "execution_count": 33,
   "metadata": {},
   "outputs": [
    {
     "name": "stdout",
     "output_type": "stream",
     "text": [
      "Documents containing the translated query terms: []\n"
     ]
    }
   ],
   "source": [
    "# Example usage:\n",
    "# Assume we have translated documents indexed using an inverted index\n",
    "# and a bilingual dictionary for translation\n",
    "english_to_spanish = {\n",
    "    \"hello\": \"hola\",\n",
    "    \"world\": \"mundo\",\n",
    "    \"python\": \"python\",\n",
    "    \"programming\": \"programación\"\n",
    "}\n",
    "\n",
    "translator = BilingualDictionaryTranslator(english_to_spanish)\n",
    "\n",
    "index = InvertedIndex()\n",
    "index.add_document(1, ['hola', 'mundo', 'python'])\n",
    "index.add_document(2, ['bienvenido', 'a', 'la', 'programación', 'en', 'python'])\n",
    "index.add_document(3, ['python', 'es', 'un', 'lenguaje', 'de', 'programación'])\n",
    "\n",
    "query_processor = QueryProcessor(translator, index)\n",
    "\n",
    "# User query in English\n",
    "user_query = \"hello python programming\"\n",
    "query_language = \"english\"\n",
    "\n",
    "# Document language assumed to be Spanish for this example\n",
    "document_language = \"spanish\"\n",
    "\n",
    "# Process the query\n",
    "result = query_processor.process_query(user_query, query_language, document_language)\n",
    "print(\"Documents containing the translated query terms:\", result)"
   ]
  },
  {
   "cell_type": "code",
   "execution_count": 35,
   "metadata": {},
   "outputs": [
    {
     "name": "stdout",
     "output_type": "stream",
     "text": [
      "Documents containing the translated query terms: []\n"
     ]
    }
   ],
   "source": [
    "class DocumentRetrieval:\n",
    "    def __init__(self, index):\n",
    "        self.index = index\n",
    "\n",
    "    def retrieve_documents(self, translated_query):\n",
    "        return self.index.search(translated_query)\n",
    "\n",
    "\n",
    "# Example usage:\n",
    "# Assume we have translated documents indexed using an inverted index\n",
    "index = InvertedIndex()\n",
    "index.add_document(1, ['hola', 'mundo', 'python'])\n",
    "index.add_document(2, ['bienvenido', 'a', 'la', 'programación', 'en', 'python'])\n",
    "index.add_document(3, ['python', 'es', 'un', 'lenguaje', 'de', 'programación'])\n",
    "\n",
    "retrieval_system = DocumentRetrieval(index)\n",
    "\n",
    "# User query in Spanish (translated)\n",
    "translated_query = \"hola python programación\"\n",
    "\n",
    "# Retrieve relevant documents\n",
    "result = retrieval_system.retrieve_documents(translated_query)\n",
    "print(\"Documents containing the translated query terms:\", result)"
   ]
  },
  {
   "cell_type": "code",
   "execution_count": 38,
   "metadata": {},
   "outputs": [],
   "source": [
    "class EvaluationMetrics:\n",
    "    def __init__(self, relevant_docs, retrieved_docs):\n",
    "        self.relevant_docs = set(relevant_docs)\n",
    "        self.retrieved_docs = set(retrieved_docs)\n",
    "\n",
    "    def precision(self):\n",
    "        if len(self.retrieved_docs) == 0:\n",
    "            return 0\n",
    "        return len(self.relevant_docs.intersection(self.retrieved_docs)) / len(self.retrieved_docs)\n",
    "\n",
    "    def recall(self):\n",
    "        if len(self.relevant_docs) == 0:\n",
    "            return 0\n",
    "        return len(self.relevant_docs.intersection(self.retrieved_docs)) / len(self.relevant_docs)\n",
    "\n",
    "    def f1_score(self):\n",
    "        precision_val = self.precision()\n",
    "        recall_val = self.recall()\n",
    "        if precision_val + recall_val == 0:\n",
    "            return 0\n",
    "        return 2 * (precision_val * recall_val) / (precision_val + recall_val)"
   ]
  },
  {
   "cell_type": "code",
   "execution_count": 39,
   "metadata": {},
   "outputs": [
    {
     "name": "stdout",
     "output_type": "stream",
     "text": [
      "Precision: 0.6666666666666666\n",
      "Recall: 0.6666666666666666\n",
      "F1-score: 0.6666666666666666\n"
     ]
    }
   ],
   "source": [
    "# Example usage:\n",
    "# Assuming ground truth relevant documents and retrieved documents\n",
    "relevant_documents = [1, 2, 3]  # IDs of relevant documents\n",
    "retrieved_documents = [1, 3, 5]  # IDs of retrieved documents\n",
    "\n",
    "# Calculate evaluation metrics\n",
    "eval_metrics = EvaluationMetrics(relevant_documents, retrieved_documents)\n",
    "precision = eval_metrics.precision()\n",
    "recall = eval_metrics.recall()\n",
    "f1_score = eval_metrics.f1_score()\n",
    "\n",
    "print(\"Precision:\", precision)\n",
    "print(\"Recall:\", recall)\n",
    "print(\"F1-score:\", f1_score)"
   ]
  },
  {
   "cell_type": "markdown",
   "metadata": {},
   "source": []
  },
  {
   "cell_type": "code",
   "execution_count": 41,
   "metadata": {},
   "outputs": [],
   "source": [
    "import matplotlib.pyplot as plt\n",
    "\n",
    "class EvaluationMetrics:\n",
    "    def __init__(self, relevant_docs, retrieved_docs):\n",
    "        self.relevant_docs = set(relevant_docs)\n",
    "        self.retrieved_docs = set(retrieved_docs)\n",
    "\n",
    "    def precision(self):\n",
    "        if len(self.retrieved_docs) == 0:\n",
    "            return 0\n",
    "        return len(self.relevant_docs.intersection(self.retrieved_docs)) / len(self.retrieved_docs)\n",
    "\n",
    "    def recall(self):\n",
    "        if len(self.relevant_docs) == 0:\n",
    "            return 0\n",
    "        return len(self.relevant_docs.intersection(self.retrieved_docs)) / len(self.relevant_docs)\n",
    "\n",
    "    def f1_score(self):\n",
    "        precision_val = self.precision()\n",
    "        recall_val = self.recall()\n",
    "        if precision_val + recall_val == 0:\n",
    "            return 0\n",
    "        return 2 * (precision_val * recall_val) / (precision_val + recall_val)"
   ]
  },
  {
   "cell_type": "code",
   "execution_count": 42,
   "metadata": {},
   "outputs": [
    {
     "data": {
      "image/png": "[encoded data removed]",
      "text/plain": [
       "<Figure size 1000x500 with 3 Axes>"
      ]
     },
     "metadata": {},
     "output_type": "display_data"
    }
   ],
   "source": [
    "# Example usage:\n",
    "# Assuming ground truth relevant documents and retrieved documents for different techniques\n",
    "techniques = ['Technique 1', 'Technique 2', 'Technique 3']\n",
    "precision_scores = [0.8, 0.7, 0.6]\n",
    "recall_scores = [0.6, 0.5, 0.4]\n",
    "f1_scores = [0.7, 0.6, 0.5]\n",
    "\n",
    "# Plotting the results\n",
    "plt.figure(figsize=(10, 5))\n",
    "\n",
    "plt.subplot(1, 3, 1)\n",
    "plt.bar(techniques, precision_scores, color='skyblue')\n",
    "plt.title('Precision')\n",
    "plt.ylim(0, 1)\n",
    "\n",
    "plt.subplot(1, 3, 2)\n",
    "plt.bar(techniques, recall_scores, color='lightgreen')\n",
    "plt.title('Recall')\n",
    "plt.ylim(0, 1)\n",
    "\n",
    "plt.subplot(1, 3, 3)\n",
    "plt.bar(techniques, f1_scores, color='salmon')\n",
    "plt.title('F1-score')\n",
    "plt.ylim(0, 1)\n",
    "\n",
    "plt.tight_layout()\n",
    "plt.show()"
   ]
  },
  {
   "cell_type": "code",
   "execution_count": null,
   "metadata": {},
   "outputs": [],
   "source": []
  }
 ],
 "metadata": {
  "kernelspec": {
   "display_name": "Python 3",
   "language": "python",
   "name": "python3"
  },
  "language_info": {
   "codemirror_mode": {
    "name": "ipython",
    "version": 3
   },
   "file_extension": ".py",
   "mimetype": "text/x-python",
   "name": "python",
   "nbconvert_exporter": "python",
   "pygments_lexer": "ipython3",
   "version": "3.11.4"
  }
 },
 "nbformat": 4,
 "nbformat_minor": 2
}
